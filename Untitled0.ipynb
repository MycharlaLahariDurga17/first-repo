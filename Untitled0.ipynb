{
  "nbformat": 4,
  "nbformat_minor": 0,
  "metadata": {
    "colab": {
      "provenance": [],
      "authorship_tag": "ABX9TyMgM4X0aVIx4dfV9JMDL8co",
      "include_colab_link": true
    },
    "kernelspec": {
      "name": "python3",
      "display_name": "Python 3"
    },
    "language_info": {
      "name": "python"
    }
  },
  "cells": [
    {
      "cell_type": "markdown",
      "metadata": {
        "id": "view-in-github",
        "colab_type": "text"
      },
      "source": [
        "<a href=\"https://colab.research.google.com/github/MycharlaLahariDurga17/first-repo/blob/main/Untitled0.ipynb\" target=\"_parent\"><img src=\"https://colab.research.google.com/assets/colab-badge.svg\" alt=\"Open In Colab\"/></a>"
      ]
    },
    {
      "cell_type": "code",
      "execution_count": 1,
      "metadata": {
        "colab": {
          "base_uri": "https://localhost:8080/"
        },
        "id": "CereaFNkqw0R",
        "outputId": "ae1f6c41-6d32-40ea-bccb-efb45e272034"
      },
      "outputs": [
        {
          "output_type": "stream",
          "name": "stdout",
          "text": [
            "Hello, GitHub! This is my first Python repo.\n"
          ]
        }
      ],
      "source": [
        "def say_hello():\n",
        "    print(\"Hello, GitHub! This is my first Python repo.\")\n",
        "\n",
        "if __name__ == \"__main__\":\n",
        "    say_hello()\n"
      ]
    }
  ]
}